{
 "cells": [
  {
   "cell_type": "markdown",
   "metadata": {},
   "source": [
    "<center>\n",
    "    <img src=\"https://cf-courses-data.s3.us.cloud-object-storage.appdomain.cloud/IBMDeveloperSkillsNetwork-DS0105EN-SkillsNetwork/labs/Module2/images/SN_web_lightmode.png\" width=\"300\" alt=\"cognitiveclass.ai logo\">\n",
    "</center>\n"
   ]
  },
  {
   "cell_type": "markdown",
   "metadata": {},
   "source": [
    "### Exercise N°2: Notebook Title\n",
    "\n",
    "###### Title: Data Science Tools and Ecosystem\n"
   ]
  },
  {
   "cell_type": "markdown",
   "metadata": {},
   "source": [
    "### Exercise N°3: Introduction\n",
    "\n",
    "###### This notebook summarizes data science tools and ecosystems.\n"
   ]
  },
  {
   "cell_type": "markdown",
   "metadata": {},
   "source": [
    "### Exercise N°10: Objectives\n",
    "\n",
    "#### **Objectives:**\n",
    "\n",
    "###### - Explore the most popular languages used in Data Science.\n",
    "###### - Learn the basics of data analysis concepts.\n",
    "###### - Understand the main stages of the data cleaning process.\n",
    "###### - Introduce fundamental data visualization techniques.\n",
    "###### - Become familiar with common tools used in Data Science.\n"
   ]
  },
  {
   "cell_type": "markdown",
   "metadata": {},
   "source": [
    "### Exercise N°4: List of Data Science Languages\n",
    "\n",
    "###### Some of the popular languages used by data scientists are:\n",
    "###### 1. Python\n",
    "###### 2. R\n",
    "###### 3. SQL\n",
    "###### 4. Java\n",
    "###### 5. Scala\n",
    "###### 6. Julia\n",
    "###### 7. JavaScript\n",
    "###### 8. C/C++"
   ]
  },
  {
   "cell_type": "markdown",
   "metadata": {},
   "source": [
    "### Exercise N°5: List of Data Science Libraries\n",
    "\n",
    "###### Some of the libraries commonly used by data scientists include:\n",
    "###### 1. Pandas\n",
    "###### 2. NumPy\n",
    "###### 3. Scikit-learn\n",
    "###### 4. Matplotlib\n",
    "###### 5. TensorFlow\n"
   ]
  },
  {
   "cell_type": "markdown",
   "metadata": {},
   "source": [
    "### Exercise N°6: Data Science Tools Table\n",
    "|     Data Science Tools     |\n",
    "|----------------------------------|\n",
    "| Jupyter Notebook                 |\n",
    "| RStudio                          |\n",
    "| Apache Zeppelin                  |\n",
    "| Tableau                          |\n",
    "| TensorFlow                       |\n",
    "| Power BI                         |\n",
    "| RapidMiner                       |\n",
    "| KNIME                            |\n",
    "\n"
   ]
  },
  {
   "cell_type": "markdown",
   "metadata": {},
   "source": [
    "### Exercise N°7: Examples of Arithmetic Expressions\n",
    "\n",
    "#### Below are some examples of evaluating arithmetic expressions in Python.\n",
    "\n",
    "##### a) 3 + 4 = 7\n",
    "##### b) 6 - 1 = 5\n",
    "##### c) 18 / 3 = 6\n",
    "##### d) 17 * 5 = 85"
   ]
  },
  {
   "cell_type": "code",
   "execution_count": 2,
   "metadata": {},
   "outputs": [
    {
     "data": {
      "text/plain": [
       "17"
      ]
     },
     "execution_count": 2,
     "metadata": {},
     "output_type": "execute_result"
    }
   ],
   "source": [
    "# Exercise N°8: Multiply and add Numbers\n",
    "(3*4)+5\n",
    "# This is a simple arithmetic expression for multiplying and then adding integers."
   ]
  },
  {
   "cell_type": "code",
   "execution_count": 5,
   "metadata": {},
   "outputs": [
    {
     "data": {
      "text/plain": [
       "3.3333333333333335"
      ]
     },
     "execution_count": 5,
     "metadata": {},
     "output_type": "execute_result"
    }
   ],
   "source": [
    "# Exercise N°9: Convert minutes to hours\n",
    "200/60\n",
    "# This will convert 200 minutes to hours by dividing by 60"
   ]
  },
  {
   "cell_type": "markdown",
   "metadata": {},
   "source": [
    "### Exercise N°11: Author Name\n",
    "\n",
    "#### **Author:**\n",
    "\n",
    "###### Esteban Arancibia"
   ]
  }
 ],
 "metadata": {
  "kernelspec": {
   "display_name": "Python 3 (ipykernel)",
   "language": "python",
   "name": "python3"
  },
  "language_info": {
   "codemirror_mode": {
    "name": "ipython",
    "version": 3
   },
   "file_extension": ".py",
   "mimetype": "text/x-python",
   "name": "python",
   "nbconvert_exporter": "python",
   "pygments_lexer": "ipython3",
   "version": "3.12.8"
  }
 },
 "nbformat": 4,
 "nbformat_minor": 4
}
